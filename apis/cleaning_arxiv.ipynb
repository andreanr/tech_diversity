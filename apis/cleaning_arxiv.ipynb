{
 "cells": [
  {
   "cell_type": "code",
   "execution_count": 1,
   "metadata": {},
   "outputs": [],
   "source": [
    "import pandas as pd\n",
    "import re\n",
    "import matplotlib.pyplot as plt"
   ]
  },
  {
   "cell_type": "code",
   "execution_count": 2,
   "metadata": {},
   "outputs": [
    {
     "data": {
      "text/html": [
       "<div>\n",
       "<style scoped>\n",
       "    .dataframe tbody tr th:only-of-type {\n",
       "        vertical-align: middle;\n",
       "    }\n",
       "\n",
       "    .dataframe tbody tr th {\n",
       "        vertical-align: top;\n",
       "    }\n",
       "\n",
       "    .dataframe thead th {\n",
       "        text-align: right;\n",
       "    }\n",
       "</style>\n",
       "<table border=\"1\" class=\"dataframe\">\n",
       "  <thead>\n",
       "    <tr style=\"text-align: right;\">\n",
       "      <th></th>\n",
       "      <th>id</th>\n",
       "      <th>Ofirstnam</th>\n",
       "      <th>Omidnam</th>\n",
       "      <th>Osurname</th>\n",
       "      <th>msa</th>\n",
       "    </tr>\n",
       "  </thead>\n",
       "  <tbody>\n",
       "    <tr>\n",
       "      <th>0</th>\n",
       "      <td>1.0</td>\n",
       "      <td>A</td>\n",
       "      <td>DALE</td>\n",
       "      <td>MAYO</td>\n",
       "      <td>9999.0</td>\n",
       "    </tr>\n",
       "    <tr>\n",
       "      <th>1</th>\n",
       "      <td>2.0</td>\n",
       "      <td>MARY</td>\n",
       "      <td>ANN</td>\n",
       "      <td>SKREZEC</td>\n",
       "      <td>7362.0</td>\n",
       "    </tr>\n",
       "    <tr>\n",
       "      <th>2</th>\n",
       "      <td>3.0</td>\n",
       "      <td>RAY</td>\n",
       "      <td>HOWARD</td>\n",
       "      <td>SUHLER</td>\n",
       "      <td>6450.0</td>\n",
       "    </tr>\n",
       "    <tr>\n",
       "      <th>3</th>\n",
       "      <td>4.0</td>\n",
       "      <td>VUONG</td>\n",
       "      <td>TUYEN</td>\n",
       "      <td>KHON</td>\n",
       "      <td>9999.0</td>\n",
       "    </tr>\n",
       "    <tr>\n",
       "      <th>4</th>\n",
       "      <td>5.0</td>\n",
       "      <td>SON</td>\n",
       "      <td>SUK</td>\n",
       "      <td>LEE</td>\n",
       "      <td>3920.0</td>\n",
       "    </tr>\n",
       "  </tbody>\n",
       "</table>\n",
       "</div>"
      ],
      "text/plain": [
       "    id Ofirstnam Omidnam Osurname     msa\n",
       "0  1.0         A    DALE     MAYO  9999.0\n",
       "1  2.0      MARY     ANN  SKREZEC  7362.0\n",
       "2  3.0       RAY  HOWARD   SUHLER  6450.0\n",
       "3  4.0     VUONG   TUYEN     KHON  9999.0\n",
       "4  5.0       SON     SUK      LEE  3920.0"
      ]
     },
     "execution_count": 2,
     "metadata": {},
     "output_type": "execute_result"
    }
   ],
   "source": [
    "sample = pd.read_stata('../data/sample.dta')\n",
    "sample.head()"
   ]
  },
  {
   "cell_type": "code",
   "execution_count": 3,
   "metadata": {},
   "outputs": [],
   "source": [
    "## Cleaning functions\n",
    "columns_interest = ['name','author_name', 'author_middle_name', 'author_surname']\n",
    "\n",
    "def clean_and_name(name):\n",
    "    name = str(name)\n",
    "\n",
    "    if name.split(' ')[0] == 'and':\n",
    "        return ' '.join(name.split(' ')[1:])\n",
    "    if name.split(' ')[-1] == 'and':\n",
    "        return ' '.join(name.split(' ')[:-1])\n",
    "    else:\n",
    "        return name\n",
    "\n",
    "def clean_first_name(name):\n",
    "    name = clean_and_name(name)\n",
    "    if  len(re.sub('[.]', '', name)) == 1:\n",
    "        return None\n",
    "    else:\n",
    "        return name"
   ]
  },
  {
   "cell_type": "markdown",
   "metadata": {},
   "source": [
    "## Arxiv Learning Keywords"
   ]
  },
  {
   "cell_type": "code",
   "execution_count": 4,
   "metadata": {},
   "outputs": [],
   "source": [
    "arviv_ml_df = pd.read_csv('../data/arxiv_learning_authors.csv')\n",
    "total_ml = len(arviv_ml_df.drop_duplicates())"
   ]
  },
  {
   "cell_type": "code",
   "execution_count": 5,
   "metadata": {},
   "outputs": [
    {
     "name": "stdout",
     "output_type": "stream",
     "text": [
      "1993-04-16T07:43:08Z 2019-03-05T18:49:40Z\n"
     ]
    }
   ],
   "source": [
    "print(arviv_ml_df['published'].min(), arviv_ml_df['published'].max())"
   ]
  },
  {
   "cell_type": "code",
   "execution_count": 6,
   "metadata": {},
   "outputs": [
    {
     "name": "stdout",
     "output_type": "stream",
     "text": [
      "total: 367687\n",
      "unique authors: 105644\n"
     ]
    },
    {
     "data": {
      "text/html": [
       "<div>\n",
       "<style scoped>\n",
       "    .dataframe tbody tr th:only-of-type {\n",
       "        vertical-align: middle;\n",
       "    }\n",
       "\n",
       "    .dataframe tbody tr th {\n",
       "        vertical-align: top;\n",
       "    }\n",
       "\n",
       "    .dataframe thead th {\n",
       "        text-align: right;\n",
       "    }\n",
       "</style>\n",
       "<table border=\"1\" class=\"dataframe\">\n",
       "  <thead>\n",
       "    <tr style=\"text-align: right;\">\n",
       "      <th></th>\n",
       "      <th>name</th>\n",
       "      <th>author_name</th>\n",
       "      <th>author_middle_name</th>\n",
       "      <th>author_surname</th>\n",
       "    </tr>\n",
       "  </thead>\n",
       "  <tbody>\n",
       "    <tr>\n",
       "      <th>0</th>\n",
       "      <td>Anjishnu Banerjee</td>\n",
       "      <td>Anjishnu</td>\n",
       "      <td>NaN</td>\n",
       "      <td>Banerjee</td>\n",
       "    </tr>\n",
       "    <tr>\n",
       "      <th>1</th>\n",
       "      <td>David Dunson</td>\n",
       "      <td>David</td>\n",
       "      <td>NaN</td>\n",
       "      <td>Dunson</td>\n",
       "    </tr>\n",
       "    <tr>\n",
       "      <th>2</th>\n",
       "      <td>Surya Tokdar</td>\n",
       "      <td>Surya</td>\n",
       "      <td>NaN</td>\n",
       "      <td>Tokdar</td>\n",
       "    </tr>\n",
       "    <tr>\n",
       "      <th>3</th>\n",
       "      <td>Cosma Rohilla Shalizi</td>\n",
       "      <td>Cosma</td>\n",
       "      <td>Rohilla</td>\n",
       "      <td>Shalizi</td>\n",
       "    </tr>\n",
       "    <tr>\n",
       "      <th>4</th>\n",
       "      <td>Abigail Z. Jacobs</td>\n",
       "      <td>Abigail</td>\n",
       "      <td>Z.</td>\n",
       "      <td>Jacobs</td>\n",
       "    </tr>\n",
       "  </tbody>\n",
       "</table>\n",
       "</div>"
      ],
      "text/plain": [
       "                    name author_name author_middle_name author_surname\n",
       "0      Anjishnu Banerjee    Anjishnu                NaN       Banerjee\n",
       "1           David Dunson       David                NaN         Dunson\n",
       "2           Surya Tokdar       Surya                NaN         Tokdar\n",
       "3  Cosma Rohilla Shalizi       Cosma            Rohilla        Shalizi\n",
       "4      Abigail Z. Jacobs     Abigail                 Z.         Jacobs"
      ]
     },
     "execution_count": 6,
     "metadata": {},
     "output_type": "execute_result"
    }
   ],
   "source": [
    "print('total: {}'.format(total_ml))\n",
    "arviv_ml_df = arviv_ml_df[columns_interest]\n",
    "unique_ml = len(arviv_ml_df.drop_duplicates())\n",
    "print('unique authors: {}'.format(unique_ml))\n",
    "arviv_ml_df.head()"
   ]
  },
  {
   "cell_type": "code",
   "execution_count": 7,
   "metadata": {},
   "outputs": [
    {
     "name": "stdout",
     "output_type": "stream",
     "text": [
      "missing 15324\n",
      "total 325466\n",
      "unique 90320\n"
     ]
    },
    {
     "data": {
      "text/html": [
       "<div>\n",
       "<style scoped>\n",
       "    .dataframe tbody tr th:only-of-type {\n",
       "        vertical-align: middle;\n",
       "    }\n",
       "\n",
       "    .dataframe tbody tr th {\n",
       "        vertical-align: top;\n",
       "    }\n",
       "\n",
       "    .dataframe thead th {\n",
       "        text-align: right;\n",
       "    }\n",
       "</style>\n",
       "<table border=\"1\" class=\"dataframe\">\n",
       "  <thead>\n",
       "    <tr style=\"text-align: right;\">\n",
       "      <th></th>\n",
       "      <th>name</th>\n",
       "      <th>author_name</th>\n",
       "      <th>author_middle_name</th>\n",
       "      <th>author_surname</th>\n",
       "    </tr>\n",
       "  </thead>\n",
       "  <tbody>\n",
       "    <tr>\n",
       "      <th>0</th>\n",
       "      <td>Anjishnu Banerjee</td>\n",
       "      <td>Anjishnu</td>\n",
       "      <td>NaN</td>\n",
       "      <td>Banerjee</td>\n",
       "    </tr>\n",
       "    <tr>\n",
       "      <th>1</th>\n",
       "      <td>David Dunson</td>\n",
       "      <td>David</td>\n",
       "      <td>NaN</td>\n",
       "      <td>Dunson</td>\n",
       "    </tr>\n",
       "    <tr>\n",
       "      <th>2</th>\n",
       "      <td>Surya Tokdar</td>\n",
       "      <td>Surya</td>\n",
       "      <td>NaN</td>\n",
       "      <td>Tokdar</td>\n",
       "    </tr>\n",
       "    <tr>\n",
       "      <th>3</th>\n",
       "      <td>Cosma Rohilla Shalizi</td>\n",
       "      <td>Cosma</td>\n",
       "      <td>Rohilla</td>\n",
       "      <td>Shalizi</td>\n",
       "    </tr>\n",
       "    <tr>\n",
       "      <th>4</th>\n",
       "      <td>Abigail Z. Jacobs</td>\n",
       "      <td>Abigail</td>\n",
       "      <td>Z.</td>\n",
       "      <td>Jacobs</td>\n",
       "    </tr>\n",
       "  </tbody>\n",
       "</table>\n",
       "</div>"
      ],
      "text/plain": [
       "                    name author_name author_middle_name author_surname\n",
       "0      Anjishnu Banerjee    Anjishnu                NaN       Banerjee\n",
       "1           David Dunson       David                NaN         Dunson\n",
       "2           Surya Tokdar       Surya                NaN         Tokdar\n",
       "3  Cosma Rohilla Shalizi       Cosma            Rohilla        Shalizi\n",
       "4      Abigail Z. Jacobs     Abigail                 Z.         Jacobs"
      ]
     },
     "execution_count": 7,
     "metadata": {},
     "output_type": "execute_result"
    }
   ],
   "source": [
    "arviv_ml_df['author_name'] = arviv_ml_df['author_name'].map(clean_first_name)\n",
    "first_arviv_ml_df = arviv_ml_df[~(pd.isnull(arviv_ml_df['author_name']) | \n",
    "                                 (arviv_ml_df['author_name'] == 'None'))].copy()\n",
    "second_arviv_ml_df = arviv_ml_df[(pd.isnull(arviv_ml_df['author_name']) | \n",
    "                                   (arviv_ml_df['author_name'] == 'None'))].copy()\n",
    "missing_ml = len(second_arviv_ml_df.drop_duplicates())\n",
    "print('missing {}'.format(missing_ml))\n",
    "print('total {}'.format(len(first_arviv_ml_df)))\n",
    "unique_first_ml = len(first_arviv_ml_df.drop_duplicates())\n",
    "print('unique {}'.format(unique_first_ml))\n",
    "first_arviv_ml_df = first_arviv_ml_df.drop_duplicates()\n",
    "first_arviv_ml_df.head()"
   ]
  },
  {
   "cell_type": "code",
   "execution_count": 8,
   "metadata": {},
   "outputs": [
    {
     "data": {
      "text/html": [
       "<div>\n",
       "<style scoped>\n",
       "    .dataframe tbody tr th:only-of-type {\n",
       "        vertical-align: middle;\n",
       "    }\n",
       "\n",
       "    .dataframe tbody tr th {\n",
       "        vertical-align: top;\n",
       "    }\n",
       "\n",
       "    .dataframe thead th {\n",
       "        text-align: right;\n",
       "    }\n",
       "</style>\n",
       "<table border=\"1\" class=\"dataframe\">\n",
       "  <thead>\n",
       "    <tr style=\"text-align: right;\">\n",
       "      <th></th>\n",
       "      <th>id</th>\n",
       "      <th>name</th>\n",
       "      <th>Ofirstnam</th>\n",
       "      <th>Omidnam</th>\n",
       "      <th>Osurname</th>\n",
       "    </tr>\n",
       "  </thead>\n",
       "  <tbody>\n",
       "    <tr>\n",
       "      <th>0</th>\n",
       "      <td>arxiv_ml_0</td>\n",
       "      <td>Anjishnu Banerjee</td>\n",
       "      <td>Anjishnu</td>\n",
       "      <td>NaN</td>\n",
       "      <td>Banerjee</td>\n",
       "    </tr>\n",
       "    <tr>\n",
       "      <th>1</th>\n",
       "      <td>arxiv_ml_1</td>\n",
       "      <td>David Dunson</td>\n",
       "      <td>David</td>\n",
       "      <td>NaN</td>\n",
       "      <td>Dunson</td>\n",
       "    </tr>\n",
       "    <tr>\n",
       "      <th>2</th>\n",
       "      <td>arxiv_ml_2</td>\n",
       "      <td>Surya Tokdar</td>\n",
       "      <td>Surya</td>\n",
       "      <td>NaN</td>\n",
       "      <td>Tokdar</td>\n",
       "    </tr>\n",
       "    <tr>\n",
       "      <th>3</th>\n",
       "      <td>arxiv_ml_3</td>\n",
       "      <td>Cosma Rohilla Shalizi</td>\n",
       "      <td>Cosma</td>\n",
       "      <td>Rohilla</td>\n",
       "      <td>Shalizi</td>\n",
       "    </tr>\n",
       "    <tr>\n",
       "      <th>4</th>\n",
       "      <td>arxiv_ml_4</td>\n",
       "      <td>Abigail Z. Jacobs</td>\n",
       "      <td>Abigail</td>\n",
       "      <td>Z.</td>\n",
       "      <td>Jacobs</td>\n",
       "    </tr>\n",
       "  </tbody>\n",
       "</table>\n",
       "</div>"
      ],
      "text/plain": [
       "           id                   name Ofirstnam  Omidnam  Osurname\n",
       "0  arxiv_ml_0      Anjishnu Banerjee  Anjishnu      NaN  Banerjee\n",
       "1  arxiv_ml_1           David Dunson     David      NaN    Dunson\n",
       "2  arxiv_ml_2           Surya Tokdar     Surya      NaN    Tokdar\n",
       "3  arxiv_ml_3  Cosma Rohilla Shalizi     Cosma  Rohilla   Shalizi\n",
       "4  arxiv_ml_4      Abigail Z. Jacobs   Abigail       Z.    Jacobs"
      ]
     },
     "execution_count": 8,
     "metadata": {},
     "output_type": "execute_result"
    }
   ],
   "source": [
    "first_arviv_ml_df.reset_index(inplace=True)\n",
    "first_arviv_ml_df.rename(columns={'index':'id', \n",
    "                           'author_name': 'Ofirstnam', \n",
    "                           'author_middle_name': 'Omidnam', \n",
    "                           'author_surname': 'Osurname'}, inplace=True)\n",
    "first_arviv_ml_df['id'] = first_arviv_ml_df['id'].apply(lambda x: 'arxiv_ml_{}'.format(x))\n",
    "first_arviv_ml_df.to_csv('../data/clean_name/arxiv_first_ml.csv', index=False)\n",
    "first_arviv_ml_df.head()"
   ]
  },
  {
   "cell_type": "markdown",
   "metadata": {},
   "source": [
    "## Arxiv Symbols"
   ]
  },
  {
   "cell_type": "code",
   "execution_count": 9,
   "metadata": {},
   "outputs": [],
   "source": [
    "arviv_sy_df = pd.read_csv('../data/arxiv_symbols_authors.csv')\n",
    "total_sy = len(arviv_sy_df.drop_duplicates())"
   ]
  },
  {
   "cell_type": "code",
   "execution_count": 10,
   "metadata": {},
   "outputs": [
    {
     "name": "stdout",
     "output_type": "stream",
     "text": [
      "1993-08-03T01:10:06Z 2019-03-05T18:49:40Z\n"
     ]
    }
   ],
   "source": [
    "print(arviv_sy_df['published'].min(), arviv_sy_df['published'].max())"
   ]
  },
  {
   "cell_type": "code",
   "execution_count": 11,
   "metadata": {},
   "outputs": [
    {
     "name": "stdout",
     "output_type": "stream",
     "text": [
      "total: 100387\n",
      "unique authors: 45981\n"
     ]
    },
    {
     "data": {
      "text/html": [
       "<div>\n",
       "<style scoped>\n",
       "    .dataframe tbody tr th:only-of-type {\n",
       "        vertical-align: middle;\n",
       "    }\n",
       "\n",
       "    .dataframe tbody tr th {\n",
       "        vertical-align: top;\n",
       "    }\n",
       "\n",
       "    .dataframe thead th {\n",
       "        text-align: right;\n",
       "    }\n",
       "</style>\n",
       "<table border=\"1\" class=\"dataframe\">\n",
       "  <thead>\n",
       "    <tr style=\"text-align: right;\">\n",
       "      <th></th>\n",
       "      <th>name</th>\n",
       "      <th>author_name</th>\n",
       "      <th>author_middle_name</th>\n",
       "      <th>author_surname</th>\n",
       "    </tr>\n",
       "  </thead>\n",
       "  <tbody>\n",
       "    <tr>\n",
       "      <th>0</th>\n",
       "      <td>Sandro A. Coelho</td>\n",
       "      <td>Sandro</td>\n",
       "      <td>A.</td>\n",
       "      <td>Coelho</td>\n",
       "    </tr>\n",
       "    <tr>\n",
       "      <th>1</th>\n",
       "      <td>Diego Moussallem</td>\n",
       "      <td>Diego</td>\n",
       "      <td>NaN</td>\n",
       "      <td>Moussallem</td>\n",
       "    </tr>\n",
       "    <tr>\n",
       "      <th>2</th>\n",
       "      <td>Gustavo C. Publio</td>\n",
       "      <td>Gustavo</td>\n",
       "      <td>C.</td>\n",
       "      <td>Publio</td>\n",
       "    </tr>\n",
       "    <tr>\n",
       "      <th>3</th>\n",
       "      <td>Diego Esteves</td>\n",
       "      <td>Diego</td>\n",
       "      <td>NaN</td>\n",
       "      <td>Esteves</td>\n",
       "    </tr>\n",
       "    <tr>\n",
       "      <th>4</th>\n",
       "      <td>Heike Adel</td>\n",
       "      <td>Heike</td>\n",
       "      <td>NaN</td>\n",
       "      <td>Adel</td>\n",
       "    </tr>\n",
       "  </tbody>\n",
       "</table>\n",
       "</div>"
      ],
      "text/plain": [
       "                name author_name author_middle_name author_surname\n",
       "0   Sandro A. Coelho      Sandro                 A.         Coelho\n",
       "1   Diego Moussallem       Diego                NaN     Moussallem\n",
       "2  Gustavo C. Publio     Gustavo                 C.         Publio\n",
       "3      Diego Esteves       Diego                NaN        Esteves\n",
       "4         Heike Adel       Heike                NaN           Adel"
      ]
     },
     "execution_count": 11,
     "metadata": {},
     "output_type": "execute_result"
    }
   ],
   "source": [
    "print('total: {}'.format(total_sy))\n",
    "arviv_sy_df = arviv_sy_df[columns_interest]\n",
    "unique_sy = len(arviv_sy_df.drop_duplicates())\n",
    "print('unique authors: {}'.format(unique_sy))\n",
    "arviv_sy_df.head()"
   ]
  },
  {
   "cell_type": "code",
   "execution_count": 12,
   "metadata": {},
   "outputs": [
    {
     "name": "stdout",
     "output_type": "stream",
     "text": [
      "missing 2874\n",
      "total 97548\n",
      "unique 43107\n"
     ]
    },
    {
     "data": {
      "text/html": [
       "<div>\n",
       "<style scoped>\n",
       "    .dataframe tbody tr th:only-of-type {\n",
       "        vertical-align: middle;\n",
       "    }\n",
       "\n",
       "    .dataframe tbody tr th {\n",
       "        vertical-align: top;\n",
       "    }\n",
       "\n",
       "    .dataframe thead th {\n",
       "        text-align: right;\n",
       "    }\n",
       "</style>\n",
       "<table border=\"1\" class=\"dataframe\">\n",
       "  <thead>\n",
       "    <tr style=\"text-align: right;\">\n",
       "      <th></th>\n",
       "      <th>name</th>\n",
       "      <th>author_name</th>\n",
       "      <th>author_middle_name</th>\n",
       "      <th>author_surname</th>\n",
       "    </tr>\n",
       "  </thead>\n",
       "  <tbody>\n",
       "    <tr>\n",
       "      <th>0</th>\n",
       "      <td>Sandro A. Coelho</td>\n",
       "      <td>Sandro</td>\n",
       "      <td>A.</td>\n",
       "      <td>Coelho</td>\n",
       "    </tr>\n",
       "    <tr>\n",
       "      <th>1</th>\n",
       "      <td>Diego Moussallem</td>\n",
       "      <td>Diego</td>\n",
       "      <td>NaN</td>\n",
       "      <td>Moussallem</td>\n",
       "    </tr>\n",
       "    <tr>\n",
       "      <th>2</th>\n",
       "      <td>Gustavo C. Publio</td>\n",
       "      <td>Gustavo</td>\n",
       "      <td>C.</td>\n",
       "      <td>Publio</td>\n",
       "    </tr>\n",
       "    <tr>\n",
       "      <th>3</th>\n",
       "      <td>Diego Esteves</td>\n",
       "      <td>Diego</td>\n",
       "      <td>NaN</td>\n",
       "      <td>Esteves</td>\n",
       "    </tr>\n",
       "    <tr>\n",
       "      <th>4</th>\n",
       "      <td>Heike Adel</td>\n",
       "      <td>Heike</td>\n",
       "      <td>NaN</td>\n",
       "      <td>Adel</td>\n",
       "    </tr>\n",
       "  </tbody>\n",
       "</table>\n",
       "</div>"
      ],
      "text/plain": [
       "                name author_name author_middle_name author_surname\n",
       "0   Sandro A. Coelho      Sandro                 A.         Coelho\n",
       "1   Diego Moussallem       Diego                NaN     Moussallem\n",
       "2  Gustavo C. Publio     Gustavo                 C.         Publio\n",
       "3      Diego Esteves       Diego                NaN        Esteves\n",
       "4         Heike Adel       Heike                NaN           Adel"
      ]
     },
     "execution_count": 12,
     "metadata": {},
     "output_type": "execute_result"
    }
   ],
   "source": [
    "arviv_sy_df['author_name'] = arviv_sy_df['author_name'].map(clean_first_name)\n",
    "first_arviv_sy_df = arviv_sy_df[~(pd.isnull(arviv_sy_df['author_name']) | \n",
    "                                 (arviv_sy_df['author_name'] == 'None'))].copy()\n",
    "second_arviv_sy_df = arviv_sy_df[(pd.isnull(arviv_sy_df['author_name']) | \n",
    "                                 (arviv_sy_df['author_name'] == 'None'))].copy()\n",
    "missing_sy = len(second_arviv_sy_df.drop_duplicates())\n",
    "print('missing {}'.format(missing_sy))\n",
    "print('total {}'.format(len(first_arviv_sy_df)))\n",
    "unique_first_sy = len(first_arviv_sy_df.drop_duplicates())\n",
    "print('unique {}'.format(unique_first_sy))\n",
    "first_arviv_sy_df = first_arviv_sy_df.drop_duplicates()\n",
    "first_arviv_sy_df.head()"
   ]
  },
  {
   "cell_type": "code",
   "execution_count": 13,
   "metadata": {},
   "outputs": [
    {
     "data": {
      "text/html": [
       "<div>\n",
       "<style scoped>\n",
       "    .dataframe tbody tr th:only-of-type {\n",
       "        vertical-align: middle;\n",
       "    }\n",
       "\n",
       "    .dataframe tbody tr th {\n",
       "        vertical-align: top;\n",
       "    }\n",
       "\n",
       "    .dataframe thead th {\n",
       "        text-align: right;\n",
       "    }\n",
       "</style>\n",
       "<table border=\"1\" class=\"dataframe\">\n",
       "  <thead>\n",
       "    <tr style=\"text-align: right;\">\n",
       "      <th></th>\n",
       "      <th>id</th>\n",
       "      <th>name</th>\n",
       "      <th>Ofirstnam</th>\n",
       "      <th>Omidnam</th>\n",
       "      <th>Osurname</th>\n",
       "    </tr>\n",
       "  </thead>\n",
       "  <tbody>\n",
       "    <tr>\n",
       "      <th>0</th>\n",
       "      <td>arxiv_sy_0</td>\n",
       "      <td>Sandro A. Coelho</td>\n",
       "      <td>Sandro</td>\n",
       "      <td>A.</td>\n",
       "      <td>Coelho</td>\n",
       "    </tr>\n",
       "    <tr>\n",
       "      <th>1</th>\n",
       "      <td>arxiv_sy_1</td>\n",
       "      <td>Diego Moussallem</td>\n",
       "      <td>Diego</td>\n",
       "      <td>NaN</td>\n",
       "      <td>Moussallem</td>\n",
       "    </tr>\n",
       "    <tr>\n",
       "      <th>2</th>\n",
       "      <td>arxiv_sy_2</td>\n",
       "      <td>Gustavo C. Publio</td>\n",
       "      <td>Gustavo</td>\n",
       "      <td>C.</td>\n",
       "      <td>Publio</td>\n",
       "    </tr>\n",
       "    <tr>\n",
       "      <th>3</th>\n",
       "      <td>arxiv_sy_3</td>\n",
       "      <td>Diego Esteves</td>\n",
       "      <td>Diego</td>\n",
       "      <td>NaN</td>\n",
       "      <td>Esteves</td>\n",
       "    </tr>\n",
       "    <tr>\n",
       "      <th>4</th>\n",
       "      <td>arxiv_sy_4</td>\n",
       "      <td>Heike Adel</td>\n",
       "      <td>Heike</td>\n",
       "      <td>NaN</td>\n",
       "      <td>Adel</td>\n",
       "    </tr>\n",
       "  </tbody>\n",
       "</table>\n",
       "</div>"
      ],
      "text/plain": [
       "           id               name Ofirstnam Omidnam    Osurname\n",
       "0  arxiv_sy_0   Sandro A. Coelho    Sandro      A.      Coelho\n",
       "1  arxiv_sy_1   Diego Moussallem     Diego     NaN  Moussallem\n",
       "2  arxiv_sy_2  Gustavo C. Publio   Gustavo      C.      Publio\n",
       "3  arxiv_sy_3      Diego Esteves     Diego     NaN     Esteves\n",
       "4  arxiv_sy_4         Heike Adel     Heike     NaN        Adel"
      ]
     },
     "execution_count": 13,
     "metadata": {},
     "output_type": "execute_result"
    }
   ],
   "source": [
    "first_arviv_sy_df.reset_index(inplace=True)\n",
    "first_arviv_sy_df.rename(columns={'index':'id', \n",
    "                           'author_name': 'Ofirstnam', \n",
    "                           'author_middle_name': 'Omidnam', \n",
    "                           'author_surname': 'Osurname'}, inplace=True)\n",
    "first_arviv_sy_df['id'] = first_arviv_sy_df['id'].apply(lambda x: 'arxiv_sy_{}'.format(x))\n",
    "first_arviv_sy_df.to_csv('../data/clean_name/arxiv_first_sy.csv', index=False)\n",
    "first_arviv_sy_df.head()"
   ]
  },
  {
   "cell_type": "markdown",
   "metadata": {},
   "source": [
    "## Arxiv Robotics"
   ]
  },
  {
   "cell_type": "code",
   "execution_count": 27,
   "metadata": {},
   "outputs": [
    {
     "name": "stdout",
     "output_type": "stream",
     "text": [
      "171126\n"
     ]
    }
   ],
   "source": [
    "arviv_ro_df = pd.read_csv('../data/arxiv_robotics_authors.csv')\n",
    "total_ro = len(arviv_ro_df)\n",
    "print(total_ro)"
   ]
  },
  {
   "cell_type": "code",
   "execution_count": 22,
   "metadata": {},
   "outputs": [
    {
     "name": "stdout",
     "output_type": "stream",
     "text": [
      "1994-01-01T00:00:00Z 2019-03-05T18:49:40Z\n"
     ]
    }
   ],
   "source": [
    "print(arviv_ro_df['published'].min(), arviv_ro_df['published'].max())"
   ]
  },
  {
   "cell_type": "code",
   "execution_count": 23,
   "metadata": {},
   "outputs": [
    {
     "name": "stdout",
     "output_type": "stream",
     "text": [
      "total: 171126\n",
      "unique authors: 55173\n"
     ]
    },
    {
     "data": {
      "text/html": [
       "<div>\n",
       "<style scoped>\n",
       "    .dataframe tbody tr th:only-of-type {\n",
       "        vertical-align: middle;\n",
       "    }\n",
       "\n",
       "    .dataframe tbody tr th {\n",
       "        vertical-align: top;\n",
       "    }\n",
       "\n",
       "    .dataframe thead th {\n",
       "        text-align: right;\n",
       "    }\n",
       "</style>\n",
       "<table border=\"1\" class=\"dataframe\">\n",
       "  <thead>\n",
       "    <tr style=\"text-align: right;\">\n",
       "      <th></th>\n",
       "      <th>name</th>\n",
       "      <th>author_name</th>\n",
       "      <th>author_middle_name</th>\n",
       "      <th>author_surname</th>\n",
       "    </tr>\n",
       "  </thead>\n",
       "  <tbody>\n",
       "    <tr>\n",
       "      <th>0</th>\n",
       "      <td>R. A Helzerman</td>\n",
       "      <td>R.</td>\n",
       "      <td>A</td>\n",
       "      <td>Helzerman</td>\n",
       "    </tr>\n",
       "    <tr>\n",
       "      <th>1</th>\n",
       "      <td>M. P. Harper</td>\n",
       "      <td>M.</td>\n",
       "      <td>P.</td>\n",
       "      <td>Harper</td>\n",
       "    </tr>\n",
       "    <tr>\n",
       "      <th>2</th>\n",
       "      <td>Alexander Yu. Vlasov</td>\n",
       "      <td>Alexander</td>\n",
       "      <td>Yu.</td>\n",
       "      <td>Vlasov</td>\n",
       "    </tr>\n",
       "    <tr>\n",
       "      <th>3</th>\n",
       "      <td>Andreas Siebert</td>\n",
       "      <td>Andreas</td>\n",
       "      <td>NaN</td>\n",
       "      <td>Siebert</td>\n",
       "    </tr>\n",
       "    <tr>\n",
       "      <th>4</th>\n",
       "      <td>Stephen L. Adler</td>\n",
       "      <td>Stephen</td>\n",
       "      <td>L.</td>\n",
       "      <td>Adler</td>\n",
       "    </tr>\n",
       "  </tbody>\n",
       "</table>\n",
       "</div>"
      ],
      "text/plain": [
       "                   name author_name author_middle_name author_surname\n",
       "0        R. A Helzerman          R.                  A      Helzerman\n",
       "1          M. P. Harper          M.                 P.         Harper\n",
       "2  Alexander Yu. Vlasov   Alexander                Yu.         Vlasov\n",
       "3       Andreas Siebert     Andreas                NaN        Siebert\n",
       "4      Stephen L. Adler     Stephen                 L.          Adler"
      ]
     },
     "execution_count": 23,
     "metadata": {},
     "output_type": "execute_result"
    }
   ],
   "source": [
    "arviv_ro_df = arviv_ro_df[columns_interest]\n",
    "print('total: {}'.format(total_ro))\n",
    "arviv_ro_df = arviv_ro_df[columns_interest]\n",
    "unique_ro = len(arviv_ro_df.drop_duplicates())\n",
    "print('unique authors: {}'.format(unique_ro))\n",
    "arviv_ro_df.head()"
   ]
  },
  {
   "cell_type": "code",
   "execution_count": 24,
   "metadata": {},
   "outputs": [
    {
     "name": "stdout",
     "output_type": "stream",
     "text": [
      "missing 4745\n",
      "total 153472\n",
      "unique 50428\n"
     ]
    },
    {
     "data": {
      "text/html": [
       "<div>\n",
       "<style scoped>\n",
       "    .dataframe tbody tr th:only-of-type {\n",
       "        vertical-align: middle;\n",
       "    }\n",
       "\n",
       "    .dataframe tbody tr th {\n",
       "        vertical-align: top;\n",
       "    }\n",
       "\n",
       "    .dataframe thead th {\n",
       "        text-align: right;\n",
       "    }\n",
       "</style>\n",
       "<table border=\"1\" class=\"dataframe\">\n",
       "  <thead>\n",
       "    <tr style=\"text-align: right;\">\n",
       "      <th></th>\n",
       "      <th>name</th>\n",
       "      <th>author_name</th>\n",
       "      <th>author_middle_name</th>\n",
       "      <th>author_surname</th>\n",
       "    </tr>\n",
       "  </thead>\n",
       "  <tbody>\n",
       "    <tr>\n",
       "      <th>2</th>\n",
       "      <td>Alexander Yu. Vlasov</td>\n",
       "      <td>Alexander</td>\n",
       "      <td>Yu.</td>\n",
       "      <td>Vlasov</td>\n",
       "    </tr>\n",
       "    <tr>\n",
       "      <th>3</th>\n",
       "      <td>Andreas Siebert</td>\n",
       "      <td>Andreas</td>\n",
       "      <td>NaN</td>\n",
       "      <td>Siebert</td>\n",
       "    </tr>\n",
       "    <tr>\n",
       "      <th>4</th>\n",
       "      <td>Stephen L. Adler</td>\n",
       "      <td>Stephen</td>\n",
       "      <td>L.</td>\n",
       "      <td>Adler</td>\n",
       "    </tr>\n",
       "    <tr>\n",
       "      <th>5</th>\n",
       "      <td>Soumyadeep Paul</td>\n",
       "      <td>Soumyadeep</td>\n",
       "      <td>NaN</td>\n",
       "      <td>Paul</td>\n",
       "    </tr>\n",
       "    <tr>\n",
       "      <th>6</th>\n",
       "      <td>Sudipta N. Sinha</td>\n",
       "      <td>Sudipta</td>\n",
       "      <td>N.</td>\n",
       "      <td>Sinha</td>\n",
       "    </tr>\n",
       "  </tbody>\n",
       "</table>\n",
       "</div>"
      ],
      "text/plain": [
       "                   name author_name author_middle_name author_surname\n",
       "2  Alexander Yu. Vlasov   Alexander                Yu.         Vlasov\n",
       "3       Andreas Siebert     Andreas                NaN        Siebert\n",
       "4      Stephen L. Adler     Stephen                 L.          Adler\n",
       "5       Soumyadeep Paul  Soumyadeep                NaN           Paul\n",
       "6      Sudipta N. Sinha     Sudipta                 N.          Sinha"
      ]
     },
     "execution_count": 24,
     "metadata": {},
     "output_type": "execute_result"
    }
   ],
   "source": [
    "arviv_ro_df['author_name'] = arviv_ro_df['author_name'].map(clean_first_name)\n",
    "first_arviv_ro_df = arviv_ro_df[~(pd.isnull(arviv_ro_df['author_name']) | \n",
    "                                 (arviv_ro_df['author_name'] == 'None'))].copy()\n",
    "second_arviv_ro_df = arviv_ro_df[(pd.isnull(arviv_ro_df['author_name']) | \n",
    "                                 (arviv_ro_df['author_name'] == 'None'))].copy()\n",
    "missing_ro = len(second_arviv_ro_df.drop_duplicates())\n",
    "print('missing {}'.format(missing_ro))\n",
    "print('total {}'.format(len(first_arviv_ro_df)))\n",
    "unique_first_ro = len(first_arviv_ro_df.drop_duplicates())\n",
    "print('unique {}'.format(unique_first_ro))\n",
    "first_arviv_ro_df = first_arviv_ro_df.drop_duplicates()\n",
    "first_arviv_ro_df.head()"
   ]
  },
  {
   "cell_type": "code",
   "execution_count": 25,
   "metadata": {},
   "outputs": [
    {
     "data": {
      "text/html": [
       "<div>\n",
       "<style scoped>\n",
       "    .dataframe tbody tr th:only-of-type {\n",
       "        vertical-align: middle;\n",
       "    }\n",
       "\n",
       "    .dataframe tbody tr th {\n",
       "        vertical-align: top;\n",
       "    }\n",
       "\n",
       "    .dataframe thead th {\n",
       "        text-align: right;\n",
       "    }\n",
       "</style>\n",
       "<table border=\"1\" class=\"dataframe\">\n",
       "  <thead>\n",
       "    <tr style=\"text-align: right;\">\n",
       "      <th></th>\n",
       "      <th>id</th>\n",
       "      <th>name</th>\n",
       "      <th>Ofirstnam</th>\n",
       "      <th>Omidnam</th>\n",
       "      <th>Osurname</th>\n",
       "    </tr>\n",
       "  </thead>\n",
       "  <tbody>\n",
       "    <tr>\n",
       "      <th>0</th>\n",
       "      <td>arxiv_ro_2</td>\n",
       "      <td>Alexander Yu. Vlasov</td>\n",
       "      <td>Alexander</td>\n",
       "      <td>Yu.</td>\n",
       "      <td>Vlasov</td>\n",
       "    </tr>\n",
       "    <tr>\n",
       "      <th>1</th>\n",
       "      <td>arxiv_ro_3</td>\n",
       "      <td>Andreas Siebert</td>\n",
       "      <td>Andreas</td>\n",
       "      <td>NaN</td>\n",
       "      <td>Siebert</td>\n",
       "    </tr>\n",
       "    <tr>\n",
       "      <th>2</th>\n",
       "      <td>arxiv_ro_4</td>\n",
       "      <td>Stephen L. Adler</td>\n",
       "      <td>Stephen</td>\n",
       "      <td>L.</td>\n",
       "      <td>Adler</td>\n",
       "    </tr>\n",
       "    <tr>\n",
       "      <th>3</th>\n",
       "      <td>arxiv_ro_5</td>\n",
       "      <td>Soumyadeep Paul</td>\n",
       "      <td>Soumyadeep</td>\n",
       "      <td>NaN</td>\n",
       "      <td>Paul</td>\n",
       "    </tr>\n",
       "    <tr>\n",
       "      <th>4</th>\n",
       "      <td>arxiv_ro_6</td>\n",
       "      <td>Sudipta N. Sinha</td>\n",
       "      <td>Sudipta</td>\n",
       "      <td>N.</td>\n",
       "      <td>Sinha</td>\n",
       "    </tr>\n",
       "  </tbody>\n",
       "</table>\n",
       "</div>"
      ],
      "text/plain": [
       "           id                  name   Ofirstnam Omidnam Osurname\n",
       "0  arxiv_ro_2  Alexander Yu. Vlasov   Alexander     Yu.   Vlasov\n",
       "1  arxiv_ro_3       Andreas Siebert     Andreas     NaN  Siebert\n",
       "2  arxiv_ro_4      Stephen L. Adler     Stephen      L.    Adler\n",
       "3  arxiv_ro_5       Soumyadeep Paul  Soumyadeep     NaN     Paul\n",
       "4  arxiv_ro_6      Sudipta N. Sinha     Sudipta      N.    Sinha"
      ]
     },
     "execution_count": 25,
     "metadata": {},
     "output_type": "execute_result"
    }
   ],
   "source": [
    "first_arviv_ro_df.reset_index(inplace=True)\n",
    "first_arviv_ro_df.rename(columns={'index':'id', \n",
    "                           'author_name': 'Ofirstnam', \n",
    "                           'author_middle_name': 'Omidnam', \n",
    "                           'author_surname': 'Osurname'}, inplace=True)\n",
    "first_arviv_ro_df['id'] = first_arviv_ro_df['id'].apply(lambda x: 'arxiv_ro_{}'.format(x))\n",
    "first_arviv_ro_df.to_csv('../data/clean_name/arxiv_first_ro.csv', index=False)\n",
    "first_arviv_ro_df.head()"
   ]
  },
  {
   "cell_type": "code",
   "execution_count": 26,
   "metadata": {},
   "outputs": [
    {
     "data": {
      "text/html": [
       "<div>\n",
       "<style scoped>\n",
       "    .dataframe tbody tr th:only-of-type {\n",
       "        vertical-align: middle;\n",
       "    }\n",
       "\n",
       "    .dataframe tbody tr th {\n",
       "        vertical-align: top;\n",
       "    }\n",
       "\n",
       "    .dataframe thead th {\n",
       "        text-align: right;\n",
       "    }\n",
       "</style>\n",
       "<table border=\"1\" class=\"dataframe\">\n",
       "  <thead>\n",
       "    <tr style=\"text-align: right;\">\n",
       "      <th></th>\n",
       "      <th>total_papers</th>\n",
       "      <th>unique_authors</th>\n",
       "      <th>unique_clean_authors</th>\n",
       "      <th>missing</th>\n",
       "    </tr>\n",
       "  </thead>\n",
       "  <tbody>\n",
       "    <tr>\n",
       "      <th>Machine Learning</th>\n",
       "      <td>367687</td>\n",
       "      <td>105644</td>\n",
       "      <td>90320</td>\n",
       "      <td>15324</td>\n",
       "    </tr>\n",
       "    <tr>\n",
       "      <th>Symbolic Systems</th>\n",
       "      <td>100387</td>\n",
       "      <td>45981</td>\n",
       "      <td>43107</td>\n",
       "      <td>2874</td>\n",
       "    </tr>\n",
       "    <tr>\n",
       "      <th>Robotics</th>\n",
       "      <td>171126</td>\n",
       "      <td>55173</td>\n",
       "      <td>50428</td>\n",
       "      <td>4745</td>\n",
       "    </tr>\n",
       "  </tbody>\n",
       "</table>\n",
       "</div>"
      ],
      "text/plain": [
       "                  total_papers  unique_authors  unique_clean_authors  missing\n",
       "Machine Learning        367687          105644                 90320    15324\n",
       "Symbolic Systems        100387           45981                 43107     2874\n",
       "Robotics                171126           55173                 50428     4745"
      ]
     },
     "execution_count": 26,
     "metadata": {},
     "output_type": "execute_result"
    }
   ],
   "source": [
    "pd.DataFrame({'total_papers': [total_ml, total_sy, total_ro],\n",
    "              'unique_authors': [unique_ml, unique_sy, unique_ro],\n",
    "              'unique_clean_authors': [unique_first_ml, unique_first_sy, unique_first_ro],\n",
    "              'missing': [missing_ml, missing_sy, missing_ro]}, index=['Machine Learning',\n",
    "                                                                       'Symbolic Systems',\n",
    "                                                                       'Robotics'],\n",
    "            columns=['total_papers', 'unique_authors', 'unique_clean_authors', 'missing'])"
   ]
  },
  {
   "cell_type": "code",
   "execution_count": null,
   "metadata": {},
   "outputs": [],
   "source": []
  },
  {
   "cell_type": "code",
   "execution_count": null,
   "metadata": {},
   "outputs": [],
   "source": []
  }
 ],
 "metadata": {
  "kernelspec": {
   "display_name": "adaCourse",
   "language": "python",
   "name": "jupyterkern"
  },
  "language_info": {
   "codemirror_mode": {
    "name": "ipython",
    "version": 3
   },
   "file_extension": ".py",
   "mimetype": "text/x-python",
   "name": "python",
   "nbconvert_exporter": "python",
   "pygments_lexer": "ipython3",
   "version": "3.6.0"
  }
 },
 "nbformat": 4,
 "nbformat_minor": 2
}
